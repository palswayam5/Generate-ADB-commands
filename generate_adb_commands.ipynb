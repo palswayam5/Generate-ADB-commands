{
 "cells": [
  {
   "cell_type": "code",
   "execution_count": 44,
   "metadata": {},
   "outputs": [
    {
     "name": "stderr",
     "output_type": "stream",
     "text": [
      "huggingface/tokenizers: The current process just got forked, after parallelism has already been used. Disabling parallelism to avoid deadlocks...\n",
      "To disable this warning, you can either:\n",
      "\t- Avoid using `tokenizers` before the fork if possible\n",
      "\t- Explicitly set the environment variable TOKENIZERS_PARALLELISM=(true | false)\n"
     ]
    },
    {
     "name": "stdout",
     "output_type": "stream",
     "text": [
      "Defaulting to user installation because normal site-packages is not writeable\n",
      "Requirement already satisfied: openai==0.28 in /Users/palswayam5/Library/Python/3.9/lib/python/site-packages (0.28.0)\n",
      "Requirement already satisfied: requests>=2.20 in /Users/palswayam5/Library/Python/3.9/lib/python/site-packages (from openai==0.28) (2.31.0)\n",
      "Requirement already satisfied: tqdm in /Users/palswayam5/Library/Python/3.9/lib/python/site-packages (from openai==0.28) (4.66.4)\n",
      "Requirement already satisfied: aiohttp in /Users/palswayam5/Library/Python/3.9/lib/python/site-packages (from openai==0.28) (3.10.6)\n",
      "Requirement already satisfied: charset-normalizer<4,>=2 in /Users/palswayam5/Library/Python/3.9/lib/python/site-packages (from requests>=2.20->openai==0.28) (3.3.2)\n",
      "Requirement already satisfied: idna<4,>=2.5 in /Users/palswayam5/Library/Python/3.9/lib/python/site-packages (from requests>=2.20->openai==0.28) (3.7)\n",
      "Requirement already satisfied: urllib3<3,>=1.21.1 in /Users/palswayam5/Library/Python/3.9/lib/python/site-packages (from requests>=2.20->openai==0.28) (2.2.1)\n",
      "Requirement already satisfied: certifi>=2017.4.17 in /Users/palswayam5/Library/Python/3.9/lib/python/site-packages (from requests>=2.20->openai==0.28) (2024.2.2)\n",
      "Requirement already satisfied: aiohappyeyeballs>=2.3.0 in /Users/palswayam5/Library/Python/3.9/lib/python/site-packages (from aiohttp->openai==0.28) (2.4.2)\n",
      "Requirement already satisfied: aiosignal>=1.1.2 in /Users/palswayam5/Library/Python/3.9/lib/python/site-packages (from aiohttp->openai==0.28) (1.3.1)\n",
      "Requirement already satisfied: attrs>=17.3.0 in /Users/palswayam5/Library/Python/3.9/lib/python/site-packages (from aiohttp->openai==0.28) (23.2.0)\n",
      "Requirement already satisfied: frozenlist>=1.1.1 in /Users/palswayam5/Library/Python/3.9/lib/python/site-packages (from aiohttp->openai==0.28) (1.4.1)\n",
      "Requirement already satisfied: multidict<7.0,>=4.5 in /Users/palswayam5/Library/Python/3.9/lib/python/site-packages (from aiohttp->openai==0.28) (6.1.0)\n",
      "Requirement already satisfied: yarl<2.0,>=1.12.0 in /Users/palswayam5/Library/Python/3.9/lib/python/site-packages (from aiohttp->openai==0.28) (1.13.0)\n",
      "Requirement already satisfied: async-timeout<5.0,>=4.0 in /Users/palswayam5/Library/Python/3.9/lib/python/site-packages (from aiohttp->openai==0.28) (4.0.3)\n",
      "Requirement already satisfied: typing-extensions>=4.1.0 in /Users/palswayam5/Library/Python/3.9/lib/python/site-packages (from multidict<7.0,>=4.5->aiohttp->openai==0.28) (4.11.0)\n",
      "\n",
      "\u001b[1m[\u001b[0m\u001b[34;49mnotice\u001b[0m\u001b[1;39;49m]\u001b[0m\u001b[39;49m A new release of pip is available: \u001b[0m\u001b[31;49m24.0\u001b[0m\u001b[39;49m -> \u001b[0m\u001b[32;49m24.2\u001b[0m\n",
      "\u001b[1m[\u001b[0m\u001b[34;49mnotice\u001b[0m\u001b[1;39;49m]\u001b[0m\u001b[39;49m To update, run: \u001b[0m\u001b[32;49m/Library/Developer/CommandLineTools/usr/bin/python3 -m pip install --upgrade pip\u001b[0m\n",
      "Note: you may need to restart the kernel to use updated packages.\n"
     ]
    }
   ],
   "source": [
    "pip install openai==0.28"
   ]
  },
  {
   "cell_type": "code",
   "execution_count": 17,
   "metadata": {},
   "outputs": [
    {
     "name": "stdout",
     "output_type": "stream",
     "text": [
      "Defaulting to user installation because normal site-packages is not writeable\n",
      "Collecting tf-keras\n",
      "  Downloading tf_keras-2.17.0-py3-none-any.whl.metadata (1.6 kB)\n",
      "Collecting tensorflow<2.18,>=2.17 (from tf-keras)\n",
      "  Downloading tensorflow-2.17.0-cp39-cp39-macosx_12_0_arm64.whl.metadata (4.1 kB)\n",
      "Requirement already satisfied: absl-py>=1.0.0 in /Users/palswayam5/Library/Python/3.9/lib/python/site-packages (from tensorflow<2.18,>=2.17->tf-keras) (2.1.0)\n",
      "Requirement already satisfied: astunparse>=1.6.0 in /Users/palswayam5/Library/Python/3.9/lib/python/site-packages (from tensorflow<2.18,>=2.17->tf-keras) (1.6.3)\n",
      "Requirement already satisfied: flatbuffers>=24.3.25 in /Users/palswayam5/Library/Python/3.9/lib/python/site-packages (from tensorflow<2.18,>=2.17->tf-keras) (24.3.25)\n",
      "Requirement already satisfied: gast!=0.5.0,!=0.5.1,!=0.5.2,>=0.2.1 in /Users/palswayam5/Library/Python/3.9/lib/python/site-packages (from tensorflow<2.18,>=2.17->tf-keras) (0.5.4)\n",
      "Requirement already satisfied: google-pasta>=0.1.1 in /Users/palswayam5/Library/Python/3.9/lib/python/site-packages (from tensorflow<2.18,>=2.17->tf-keras) (0.2.0)\n",
      "Requirement already satisfied: h5py>=3.10.0 in /Users/palswayam5/Library/Python/3.9/lib/python/site-packages (from tensorflow<2.18,>=2.17->tf-keras) (3.11.0)\n",
      "Requirement already satisfied: libclang>=13.0.0 in /Users/palswayam5/Library/Python/3.9/lib/python/site-packages (from tensorflow<2.18,>=2.17->tf-keras) (18.1.1)\n",
      "Requirement already satisfied: ml-dtypes<0.5.0,>=0.3.1 in /Users/palswayam5/Library/Python/3.9/lib/python/site-packages (from tensorflow<2.18,>=2.17->tf-keras) (0.3.2)\n",
      "Requirement already satisfied: opt-einsum>=2.3.2 in /Users/palswayam5/Library/Python/3.9/lib/python/site-packages (from tensorflow<2.18,>=2.17->tf-keras) (3.3.0)\n",
      "Requirement already satisfied: packaging in /Users/palswayam5/Library/Python/3.9/lib/python/site-packages (from tensorflow<2.18,>=2.17->tf-keras) (24.0)\n",
      "Requirement already satisfied: protobuf!=4.21.0,!=4.21.1,!=4.21.2,!=4.21.3,!=4.21.4,!=4.21.5,<5.0.0dev,>=3.20.3 in /Users/palswayam5/Library/Python/3.9/lib/python/site-packages (from tensorflow<2.18,>=2.17->tf-keras) (3.20.3)\n",
      "Requirement already satisfied: requests<3,>=2.21.0 in /Users/palswayam5/Library/Python/3.9/lib/python/site-packages (from tensorflow<2.18,>=2.17->tf-keras) (2.31.0)\n",
      "Requirement already satisfied: setuptools in /Library/Developer/CommandLineTools/Library/Frameworks/Python3.framework/Versions/3.9/lib/python3.9/site-packages (from tensorflow<2.18,>=2.17->tf-keras) (58.0.4)\n",
      "Requirement already satisfied: six>=1.12.0 in /Library/Developer/CommandLineTools/Library/Frameworks/Python3.framework/Versions/3.9/lib/python3.9/site-packages (from tensorflow<2.18,>=2.17->tf-keras) (1.15.0)\n",
      "Requirement already satisfied: termcolor>=1.1.0 in /Users/palswayam5/Library/Python/3.9/lib/python/site-packages (from tensorflow<2.18,>=2.17->tf-keras) (2.4.0)\n",
      "Requirement already satisfied: typing-extensions>=3.6.6 in /Users/palswayam5/Library/Python/3.9/lib/python/site-packages (from tensorflow<2.18,>=2.17->tf-keras) (4.11.0)\n",
      "Requirement already satisfied: wrapt>=1.11.0 in /Users/palswayam5/Library/Python/3.9/lib/python/site-packages (from tensorflow<2.18,>=2.17->tf-keras) (1.16.0)\n",
      "Requirement already satisfied: grpcio<2.0,>=1.24.3 in /Users/palswayam5/Library/Python/3.9/lib/python/site-packages (from tensorflow<2.18,>=2.17->tf-keras) (1.63.0)\n",
      "Collecting tensorboard<2.18,>=2.17 (from tensorflow<2.18,>=2.17->tf-keras)\n",
      "  Downloading tensorboard-2.17.1-py3-none-any.whl.metadata (1.6 kB)\n",
      "Requirement already satisfied: keras>=3.2.0 in /Users/palswayam5/Library/Python/3.9/lib/python/site-packages (from tensorflow<2.18,>=2.17->tf-keras) (3.3.3)\n",
      "Requirement already satisfied: tensorflow-io-gcs-filesystem>=0.23.1 in /Users/palswayam5/Library/Python/3.9/lib/python/site-packages (from tensorflow<2.18,>=2.17->tf-keras) (0.37.0)\n",
      "Requirement already satisfied: numpy<2.0.0,>=1.23.5 in /Users/palswayam5/Library/Python/3.9/lib/python/site-packages (from tensorflow<2.18,>=2.17->tf-keras) (1.26.4)\n",
      "Requirement already satisfied: wheel<1.0,>=0.23.0 in /Library/Developer/CommandLineTools/Library/Frameworks/Python3.framework/Versions/3.9/lib/python3.9/site-packages (from astunparse>=1.6.0->tensorflow<2.18,>=2.17->tf-keras) (0.37.0)\n",
      "Requirement already satisfied: rich in /Users/palswayam5/Library/Python/3.9/lib/python/site-packages (from keras>=3.2.0->tensorflow<2.18,>=2.17->tf-keras) (13.7.1)\n",
      "Requirement already satisfied: namex in /Users/palswayam5/Library/Python/3.9/lib/python/site-packages (from keras>=3.2.0->tensorflow<2.18,>=2.17->tf-keras) (0.0.8)\n",
      "Requirement already satisfied: optree in /Users/palswayam5/Library/Python/3.9/lib/python/site-packages (from keras>=3.2.0->tensorflow<2.18,>=2.17->tf-keras) (0.11.0)\n",
      "Requirement already satisfied: charset-normalizer<4,>=2 in /Users/palswayam5/Library/Python/3.9/lib/python/site-packages (from requests<3,>=2.21.0->tensorflow<2.18,>=2.17->tf-keras) (3.3.2)\n",
      "Requirement already satisfied: idna<4,>=2.5 in /Users/palswayam5/Library/Python/3.9/lib/python/site-packages (from requests<3,>=2.21.0->tensorflow<2.18,>=2.17->tf-keras) (3.7)\n",
      "Requirement already satisfied: urllib3<3,>=1.21.1 in /Users/palswayam5/Library/Python/3.9/lib/python/site-packages (from requests<3,>=2.21.0->tensorflow<2.18,>=2.17->tf-keras) (2.2.1)\n",
      "Requirement already satisfied: certifi>=2017.4.17 in /Users/palswayam5/Library/Python/3.9/lib/python/site-packages (from requests<3,>=2.21.0->tensorflow<2.18,>=2.17->tf-keras) (2024.2.2)\n",
      "Requirement already satisfied: markdown>=2.6.8 in /Users/palswayam5/Library/Python/3.9/lib/python/site-packages (from tensorboard<2.18,>=2.17->tensorflow<2.18,>=2.17->tf-keras) (3.6)\n",
      "Requirement already satisfied: tensorboard-data-server<0.8.0,>=0.7.0 in /Users/palswayam5/Library/Python/3.9/lib/python/site-packages (from tensorboard<2.18,>=2.17->tensorflow<2.18,>=2.17->tf-keras) (0.7.2)\n",
      "Requirement already satisfied: werkzeug>=1.0.1 in /Users/palswayam5/Library/Python/3.9/lib/python/site-packages (from tensorboard<2.18,>=2.17->tensorflow<2.18,>=2.17->tf-keras) (3.0.3)\n",
      "Requirement already satisfied: importlib-metadata>=4.4 in /Users/palswayam5/Library/Python/3.9/lib/python/site-packages (from markdown>=2.6.8->tensorboard<2.18,>=2.17->tensorflow<2.18,>=2.17->tf-keras) (7.1.0)\n",
      "Requirement already satisfied: MarkupSafe>=2.1.1 in /Users/palswayam5/Library/Python/3.9/lib/python/site-packages (from werkzeug>=1.0.1->tensorboard<2.18,>=2.17->tensorflow<2.18,>=2.17->tf-keras) (2.1.5)\n",
      "Requirement already satisfied: markdown-it-py>=2.2.0 in /Users/palswayam5/Library/Python/3.9/lib/python/site-packages (from rich->keras>=3.2.0->tensorflow<2.18,>=2.17->tf-keras) (3.0.0)\n",
      "Requirement already satisfied: pygments<3.0.0,>=2.13.0 in /Users/palswayam5/Library/Python/3.9/lib/python/site-packages (from rich->keras>=3.2.0->tensorflow<2.18,>=2.17->tf-keras) (2.18.0)\n",
      "Requirement already satisfied: zipp>=0.5 in /Users/palswayam5/Library/Python/3.9/lib/python/site-packages (from importlib-metadata>=4.4->markdown>=2.6.8->tensorboard<2.18,>=2.17->tensorflow<2.18,>=2.17->tf-keras) (3.18.1)\n",
      "Requirement already satisfied: mdurl~=0.1 in /Users/palswayam5/Library/Python/3.9/lib/python/site-packages (from markdown-it-py>=2.2.0->rich->keras>=3.2.0->tensorflow<2.18,>=2.17->tf-keras) (0.1.2)\n",
      "Downloading tf_keras-2.17.0-py3-none-any.whl (1.7 MB)\n",
      "\u001b[2K   \u001b[90m━━━━━━━━━━━━━━━━━━━━━━━━━━━━━━━━━━━━━━━━\u001b[0m \u001b[32m1.7/1.7 MB\u001b[0m \u001b[31m4.9 MB/s\u001b[0m eta \u001b[36m0:00:00\u001b[0m00:01\u001b[0m00:01\u001b[0m\n",
      "\u001b[?25hDownloading tensorflow-2.17.0-cp39-cp39-macosx_12_0_arm64.whl (236.1 MB)\n",
      "\u001b[2K   \u001b[90m━━━━━━━━━━━━━━━━━━━━━━━━━━━━━━━━━━━━━━━━\u001b[0m \u001b[32m236.1/236.1 MB\u001b[0m \u001b[31m1.8 MB/s\u001b[0m eta \u001b[36m0:00:00\u001b[0m00:01\u001b[0m00:03\u001b[0m\n",
      "\u001b[?25hDownloading tensorboard-2.17.1-py3-none-any.whl (5.5 MB)\n",
      "\u001b[2K   \u001b[90m━━━━━━━━━━━━━━━━━━━━━━━━━━━━━━━━━━━━━━━━\u001b[0m \u001b[32m5.5/5.5 MB\u001b[0m \u001b[31m2.2 MB/s\u001b[0m eta \u001b[36m0:00:00\u001b[0m00:01\u001b[0m00:01\u001b[0m\n",
      "\u001b[?25hInstalling collected packages: tensorboard, tensorflow, tf-keras\n",
      "  Attempting uninstall: tensorboard\n",
      "    Found existing installation: tensorboard 2.16.2\n",
      "    Uninstalling tensorboard-2.16.2:\n",
      "      Successfully uninstalled tensorboard-2.16.2\n",
      "  Attempting uninstall: tensorflow\n",
      "    Found existing installation: tensorflow 2.16.1\n",
      "    Uninstalling tensorflow-2.16.1:\n",
      "      Successfully uninstalled tensorflow-2.16.1\n",
      "Successfully installed tensorboard-2.17.1 tensorflow-2.17.0 tf-keras-2.17.0\n",
      "\n",
      "\u001b[1m[\u001b[0m\u001b[34;49mnotice\u001b[0m\u001b[1;39;49m]\u001b[0m\u001b[39;49m A new release of pip is available: \u001b[0m\u001b[31;49m24.0\u001b[0m\u001b[39;49m -> \u001b[0m\u001b[32;49m24.2\u001b[0m\n",
      "\u001b[1m[\u001b[0m\u001b[34;49mnotice\u001b[0m\u001b[1;39;49m]\u001b[0m\u001b[39;49m To update, run: \u001b[0m\u001b[32;49m/Library/Developer/CommandLineTools/usr/bin/python3 -m pip install --upgrade pip\u001b[0m\n",
      "Note: you may need to restart the kernel to use updated packages.\n"
     ]
    }
   ],
   "source": [
    "pip install tf-keras"
   ]
  },
  {
   "cell_type": "code",
   "execution_count": 18,
   "metadata": {},
   "outputs": [
    {
     "name": "stdout",
     "output_type": "stream",
     "text": [
      "Defaulting to user installation because normal site-packages is not writeable\n",
      "Requirement already satisfied: tensorflow in /Users/palswayam5/Library/Python/3.9/lib/python/site-packages (2.17.0)\n",
      "Requirement already satisfied: absl-py>=1.0.0 in /Users/palswayam5/Library/Python/3.9/lib/python/site-packages (from tensorflow) (2.1.0)\n",
      "Requirement already satisfied: astunparse>=1.6.0 in /Users/palswayam5/Library/Python/3.9/lib/python/site-packages (from tensorflow) (1.6.3)\n",
      "Requirement already satisfied: flatbuffers>=24.3.25 in /Users/palswayam5/Library/Python/3.9/lib/python/site-packages (from tensorflow) (24.3.25)\n",
      "Requirement already satisfied: gast!=0.5.0,!=0.5.1,!=0.5.2,>=0.2.1 in /Users/palswayam5/Library/Python/3.9/lib/python/site-packages (from tensorflow) (0.5.4)\n",
      "Requirement already satisfied: google-pasta>=0.1.1 in /Users/palswayam5/Library/Python/3.9/lib/python/site-packages (from tensorflow) (0.2.0)\n",
      "Requirement already satisfied: h5py>=3.10.0 in /Users/palswayam5/Library/Python/3.9/lib/python/site-packages (from tensorflow) (3.11.0)\n",
      "Requirement already satisfied: libclang>=13.0.0 in /Users/palswayam5/Library/Python/3.9/lib/python/site-packages (from tensorflow) (18.1.1)\n",
      "Requirement already satisfied: ml-dtypes<0.5.0,>=0.3.1 in /Users/palswayam5/Library/Python/3.9/lib/python/site-packages (from tensorflow) (0.3.2)\n",
      "Requirement already satisfied: opt-einsum>=2.3.2 in /Users/palswayam5/Library/Python/3.9/lib/python/site-packages (from tensorflow) (3.3.0)\n",
      "Requirement already satisfied: packaging in /Users/palswayam5/Library/Python/3.9/lib/python/site-packages (from tensorflow) (24.0)\n",
      "Requirement already satisfied: protobuf!=4.21.0,!=4.21.1,!=4.21.2,!=4.21.3,!=4.21.4,!=4.21.5,<5.0.0dev,>=3.20.3 in /Users/palswayam5/Library/Python/3.9/lib/python/site-packages (from tensorflow) (3.20.3)\n",
      "Requirement already satisfied: requests<3,>=2.21.0 in /Users/palswayam5/Library/Python/3.9/lib/python/site-packages (from tensorflow) (2.31.0)\n",
      "Requirement already satisfied: setuptools in /Library/Developer/CommandLineTools/Library/Frameworks/Python3.framework/Versions/3.9/lib/python3.9/site-packages (from tensorflow) (58.0.4)\n",
      "Requirement already satisfied: six>=1.12.0 in /Library/Developer/CommandLineTools/Library/Frameworks/Python3.framework/Versions/3.9/lib/python3.9/site-packages (from tensorflow) (1.15.0)\n",
      "Requirement already satisfied: termcolor>=1.1.0 in /Users/palswayam5/Library/Python/3.9/lib/python/site-packages (from tensorflow) (2.4.0)\n",
      "Requirement already satisfied: typing-extensions>=3.6.6 in /Users/palswayam5/Library/Python/3.9/lib/python/site-packages (from tensorflow) (4.11.0)\n",
      "Requirement already satisfied: wrapt>=1.11.0 in /Users/palswayam5/Library/Python/3.9/lib/python/site-packages (from tensorflow) (1.16.0)\n",
      "Requirement already satisfied: grpcio<2.0,>=1.24.3 in /Users/palswayam5/Library/Python/3.9/lib/python/site-packages (from tensorflow) (1.63.0)\n",
      "Requirement already satisfied: tensorboard<2.18,>=2.17 in /Users/palswayam5/Library/Python/3.9/lib/python/site-packages (from tensorflow) (2.17.1)\n",
      "Requirement already satisfied: keras>=3.2.0 in /Users/palswayam5/Library/Python/3.9/lib/python/site-packages (from tensorflow) (3.3.3)\n",
      "Requirement already satisfied: tensorflow-io-gcs-filesystem>=0.23.1 in /Users/palswayam5/Library/Python/3.9/lib/python/site-packages (from tensorflow) (0.37.0)\n",
      "Requirement already satisfied: numpy<2.0.0,>=1.23.5 in /Users/palswayam5/Library/Python/3.9/lib/python/site-packages (from tensorflow) (1.26.4)\n",
      "Requirement already satisfied: wheel<1.0,>=0.23.0 in /Library/Developer/CommandLineTools/Library/Frameworks/Python3.framework/Versions/3.9/lib/python3.9/site-packages (from astunparse>=1.6.0->tensorflow) (0.37.0)\n",
      "Requirement already satisfied: rich in /Users/palswayam5/Library/Python/3.9/lib/python/site-packages (from keras>=3.2.0->tensorflow) (13.7.1)\n",
      "Requirement already satisfied: namex in /Users/palswayam5/Library/Python/3.9/lib/python/site-packages (from keras>=3.2.0->tensorflow) (0.0.8)\n",
      "Requirement already satisfied: optree in /Users/palswayam5/Library/Python/3.9/lib/python/site-packages (from keras>=3.2.0->tensorflow) (0.11.0)\n",
      "Requirement already satisfied: charset-normalizer<4,>=2 in /Users/palswayam5/Library/Python/3.9/lib/python/site-packages (from requests<3,>=2.21.0->tensorflow) (3.3.2)\n",
      "Requirement already satisfied: idna<4,>=2.5 in /Users/palswayam5/Library/Python/3.9/lib/python/site-packages (from requests<3,>=2.21.0->tensorflow) (3.7)\n",
      "Requirement already satisfied: urllib3<3,>=1.21.1 in /Users/palswayam5/Library/Python/3.9/lib/python/site-packages (from requests<3,>=2.21.0->tensorflow) (2.2.1)\n",
      "Requirement already satisfied: certifi>=2017.4.17 in /Users/palswayam5/Library/Python/3.9/lib/python/site-packages (from requests<3,>=2.21.0->tensorflow) (2024.2.2)\n",
      "Requirement already satisfied: markdown>=2.6.8 in /Users/palswayam5/Library/Python/3.9/lib/python/site-packages (from tensorboard<2.18,>=2.17->tensorflow) (3.6)\n",
      "Requirement already satisfied: tensorboard-data-server<0.8.0,>=0.7.0 in /Users/palswayam5/Library/Python/3.9/lib/python/site-packages (from tensorboard<2.18,>=2.17->tensorflow) (0.7.2)\n",
      "Requirement already satisfied: werkzeug>=1.0.1 in /Users/palswayam5/Library/Python/3.9/lib/python/site-packages (from tensorboard<2.18,>=2.17->tensorflow) (3.0.3)\n",
      "Requirement already satisfied: importlib-metadata>=4.4 in /Users/palswayam5/Library/Python/3.9/lib/python/site-packages (from markdown>=2.6.8->tensorboard<2.18,>=2.17->tensorflow) (7.1.0)\n",
      "Requirement already satisfied: MarkupSafe>=2.1.1 in /Users/palswayam5/Library/Python/3.9/lib/python/site-packages (from werkzeug>=1.0.1->tensorboard<2.18,>=2.17->tensorflow) (2.1.5)\n",
      "Requirement already satisfied: markdown-it-py>=2.2.0 in /Users/palswayam5/Library/Python/3.9/lib/python/site-packages (from rich->keras>=3.2.0->tensorflow) (3.0.0)\n",
      "Requirement already satisfied: pygments<3.0.0,>=2.13.0 in /Users/palswayam5/Library/Python/3.9/lib/python/site-packages (from rich->keras>=3.2.0->tensorflow) (2.18.0)\n",
      "Requirement already satisfied: zipp>=0.5 in /Users/palswayam5/Library/Python/3.9/lib/python/site-packages (from importlib-metadata>=4.4->markdown>=2.6.8->tensorboard<2.18,>=2.17->tensorflow) (3.18.1)\n",
      "Requirement already satisfied: mdurl~=0.1 in /Users/palswayam5/Library/Python/3.9/lib/python/site-packages (from markdown-it-py>=2.2.0->rich->keras>=3.2.0->tensorflow) (0.1.2)\n",
      "\n",
      "\u001b[1m[\u001b[0m\u001b[34;49mnotice\u001b[0m\u001b[1;39;49m]\u001b[0m\u001b[39;49m A new release of pip is available: \u001b[0m\u001b[31;49m24.0\u001b[0m\u001b[39;49m -> \u001b[0m\u001b[32;49m24.2\u001b[0m\n",
      "\u001b[1m[\u001b[0m\u001b[34;49mnotice\u001b[0m\u001b[1;39;49m]\u001b[0m\u001b[39;49m To update, run: \u001b[0m\u001b[32;49m/Library/Developer/CommandLineTools/usr/bin/python3 -m pip install --upgrade pip\u001b[0m\n",
      "Note: you may need to restart the kernel to use updated packages.\n"
     ]
    }
   ],
   "source": [
    "pip install tensorflow"
   ]
  },
  {
   "cell_type": "code",
   "execution_count": 2,
   "metadata": {},
   "outputs": [
    {
     "name": "stdout",
     "output_type": "stream",
     "text": [
      "Defaulting to user installation because normal site-packages is not writeable\n",
      "Collecting pytesseract\n",
      "  Downloading pytesseract-0.3.13-py3-none-any.whl.metadata (11 kB)\n",
      "Requirement already satisfied: packaging>=21.3 in /Users/palswayam5/Library/Python/3.9/lib/python/site-packages (from pytesseract) (24.0)\n",
      "Requirement already satisfied: Pillow>=8.0.0 in /Users/palswayam5/Library/Python/3.9/lib/python/site-packages (from pytesseract) (10.3.0)\n",
      "Downloading pytesseract-0.3.13-py3-none-any.whl (14 kB)\n",
      "Installing collected packages: pytesseract\n",
      "Successfully installed pytesseract-0.3.13\n",
      "\n",
      "\u001b[1m[\u001b[0m\u001b[34;49mnotice\u001b[0m\u001b[1;39;49m]\u001b[0m\u001b[39;49m A new release of pip is available: \u001b[0m\u001b[31;49m24.0\u001b[0m\u001b[39;49m -> \u001b[0m\u001b[32;49m24.2\u001b[0m\n",
      "\u001b[1m[\u001b[0m\u001b[34;49mnotice\u001b[0m\u001b[1;39;49m]\u001b[0m\u001b[39;49m To update, run: \u001b[0m\u001b[32;49m/Library/Developer/CommandLineTools/usr/bin/python3 -m pip install --upgrade pip\u001b[0m\n",
      "Note: you may need to restart the kernel to use updated packages.\n"
     ]
    }
   ],
   "source": [
    "pip install pytesseract"
   ]
  },
  {
   "cell_type": "code",
   "execution_count": 3,
   "metadata": {},
   "outputs": [],
   "source": [
    "import os\n",
    "import xml.etree.ElementTree as ET\n",
    "from transformers import pipeline\n",
    "import xml.etree.ElementTree as ET\n",
    "import re\n",
    "import cv2\n",
    "import openai\n",
    "import numpy as np\n",
    "import pytesseract"
   ]
  },
  {
   "cell_type": "code",
   "execution_count": 4,
   "metadata": {},
   "outputs": [],
   "source": [
    "api_key ='sk-T_1Cf61TrcnZiCJH7EGgd70fJHhYxVXNDb2KoVCfaNT3BlbkFJnoKGrG_rAQlf8ImGxyVCp-AYeEmxq7mT01PHK1DGEA'"
   ]
  },
  {
   "cell_type": "markdown",
   "metadata": {},
   "source": [
    "TASK WAS PERFORMED TO CONVERT NORMAL TEXT TO CORROSPONDING ADB COMMANDS, COORDINATES WERE EXTRACTED FROM XML FILE"
   ]
  },
  {
   "cell_type": "code",
   "execution_count": 46,
   "metadata": {},
   "outputs": [
    {
     "name": "stdout",
     "output_type": "stream",
     "text": [
      "Generated ADB Command:\n",
      "The command for the operation 'open accounts page' using the given XML data would be:\n",
      "\n",
      "```\n",
      "adb shell input tap 756 2328\n",
      "```\n",
      "\n",
      "Please note `756` and `2328` are approximate coordinates computed from the bounds of 'Account' button ('android.view.ViewGroup' with content-desc='Account') as per the following:\n",
      "\n",
      "Bounds for the 'Account' button are `[648,2256][864,2400]`.\n",
      "X-coordinate would be `(648 + 864)/2 = 756`\n",
      "Y-coordinate would be `(2256 + 2400)/2 = 2328`\n"
     ]
    }
   ],
   "source": [
    "# Function to generate an ADB command using a Language Learning Model (LLM)\n",
    "def generate_adb_command(xml_content, user_prompt, api_key):\n",
    "    # Set the API key for OpenAI to authenticate the request\n",
    "    openai.api_key = api_key\n",
    "\n",
    "    # Create a prompt for the LLM to convert user instructions into corresponding ADB commands\n",
    "    # The prompt requests the LLM to extract coordinates from the XML data and generate the ADB command based on the user-provided prompt.\n",
    "    prompt = f\"Convert the text '{user_prompt}' to a corresponding ADB command with coordinates. Extract coordinates from the following XML data.\\n\\nHere is the XML data:\\n{xml_content}\"\n",
    "\n",
    "    try:\n",
    "        # Call the OpenAI API to interact with the LLM\n",
    "        rehsponse = openai.CatCompletion.create(\n",
    "            model=\"gpt-4\",  # Specify the LLM model to be used (GPT-4 in this case)\n",
    "            messages=[\n",
    "                {\"role\": \"user\", \"content\": prompt}  # Pass the generated prompt to the model\n",
    "            ],\n",
    "            max_tokens=200  # Limit the output tokens to prevent overly long responses (adjustable)\n",
    "        )\n",
    "\n",
    "        # Extract the text of the ADB command from the API response\n",
    "        generated_text = response['choices'][0]['message']['content']\n",
    "        \n",
    "        # Return the generated command after stripping extra spaces or line breaks\n",
    "        return generated_text.strip()\n",
    "    \n",
    "    # Catch and handle exceptions if the API call fails\n",
    "    except Exception as e:\n",
    "        print(f\"Error during API call: {e}\")  # Print the error message for debugging\n",
    "        return \"\"\n",
    "\n",
    "# Main function to load XML, interact with LLM, and generate the ADB command\n",
    "def main(xml_file_path, user_prompt, api_key):\n",
    "    # Open and read the XML file that contains UI layout and element information\n",
    "    with open(xml_file_path, 'r') as file:\n",
    "        xml_content = file.read()\n",
    "\n",
    "    # Generate the ADB command by passing the XML content and user instruction (prompt) to the LLM\n",
    "    adb_command = generate_adb_command(xml_content, user_prompt, api_key)\n",
    "\n",
    "    # Output the generated ADB command to the console\n",
    "    print(\"Generated ADB Command:\")\n",
    "    print(adb_command)\n",
    "\n",
    "# Example usage: when the script is executed, the main function is triggered\n",
    "if __name__ == \"__main__\":\n",
    "    xml_file_path = 'cart.xml'  # Path to the XML file containing the UI layout information\n",
    "    user_prompt = 'open accounts page'  # Instruction provided by the user to be converted into an ADB command\n",
    "    main(xml_file_path, user_prompt, api_key)  # Call the main function with file path, prompt, and API key\n"
   ]
  },
  {
   "cell_type": "markdown",
   "metadata": {},
   "source": [
    "CODE TO VALIDATE WEATHER THE CURRENT PAGE IS SAME OR NOT WHILE COMAPRING THE OLDER SS OF PAGE WITH NEW XML FILE GENERATED AFTER THE CHANGES MADE OVER THE SAME PAGE (BOUNDING BOXES WERE COMPARED AND 70% CONFIDENCE LEVEL WAS TAKEN AS REFERENCE)"
   ]
  },
  {
   "cell_type": "code",
   "execution_count": 45,
   "metadata": {},
   "outputs": [
    {
     "name": "stdout",
     "output_type": "stream",
     "text": [
      "Element '' does not match the screenshot layout.\n",
      "Image Validation Result:\n",
      "Image does not match the expected layout.\n"
     ]
    }
   ],
   "source": [
    "import cv2\n",
    "import re\n",
    "import xml.etree.ElementTree as ET\n",
    "\n",
    "# Function to parse the XML and extract UI elements' bounding boxes and text attributes\n",
    "def parse_xml_for_ui_elements(xml_content):\n",
    "    ui_elements = []\n",
    "    \n",
    "    # Parse the XML content into an element tree structure\n",
    "    tree = ET.ElementTree(ET.fromstring(xml_content))\n",
    "    root = tree.getroot()\n",
    "\n",
    "    # Iterate through each element in the XML structure\n",
    "    for element in root.iter():\n",
    "        bounds = element.attrib.get('bounds')  # Get the 'bounds' attribute of the element (representing UI element's position)\n",
    "        text = element.attrib.get('text', '')  # Get the 'text' attribute of the element (defaults to empty if not found)\n",
    "\n",
    "        if bounds:\n",
    "            # Extract the coordinate values from the 'bounds' string (e.g., \"[10,20][30,40]\") using regular expression\n",
    "            coords = list(map(int, re.findall(r'\\d+', bounds)))\n",
    "            # Append the UI element's text and bounding box coordinates as a tuple to the list\n",
    "            ui_elements.append((text, coords))\n",
    "\n",
    "    # Return the list of UI elements (text and their corresponding bounding boxes)\n",
    "    return ui_elements\n",
    "\n",
    "# Function to validate if the screenshot matches the layout described by the XML elements\n",
    "# This compares UI elements' bounding boxes from the XML and the screenshot to check their alignment\n",
    "def validate_image_against_xml(screenshot_path, xml_elements):\n",
    "    # Load the screenshot image from the specified file path\n",
    "    img = cv2.imread(screenshot_path)\n",
    "    \n",
    "    # Convert the screenshot to grayscale for processing\n",
    "    gray = cv2.cvtColor(img, cv2.COLOR_BGR2GRAY)\n",
    "    \n",
    "    # Detect edges in the image using OpenCV's Canny edge detection (for placeholder detection)\n",
    "    edges = cv2.Canny(gray, 50, 150)\n",
    "\n",
    "    # Loop through each UI element extracted from the XML\n",
    "    for text, coords in xml_elements:\n",
    "        x1, y1, x2, y2 = coords  # Extract the bounding box coordinates (top-left and bottom-right corners)\n",
    "        \n",
    "        # Draw a green rectangle around the expected position of each UI element on the screenshot\n",
    "        cv2.rectangle(img, (x1, y1), (x2, y2), (0, 255, 0), 2)  # (x1, y1) is top-left, (x2, y2) is bottom-right\n",
    "\n",
    "    # Use template matching to validate that the detected UI elements in the image match the XML layout more precisely\n",
    "    for text, coords in xml_elements:\n",
    "        x1, y1, x2, y2 = coords  # Extract coordinates again\n",
    "        \n",
    "        # Define the region of interest (ROI) in the screenshot, corresponding to the UI element's position\n",
    "        roi = gray[y1:y2, x1:x2]\n",
    "\n",
    "        # Use template matching to compare the region in the image to its expected location\n",
    "        match = cv2.matchTemplate(gray, roi, cv2.TM_CCOEFF_NORMED)\n",
    "\n",
    "        # Extract the matching confidence values (min/max) from the template matching result\n",
    "        min_val, max_val, min_loc, max_loc = cv2.minMaxLoc(match)\n",
    "\n",
    "        # If the maximum confidence value (max_val) is below the threshold (e.g., 0.7), consider it a mismatch\n",
    "        if max_val < 0.7:\n",
    "            print(f\"Element '{text}' does not match the screenshot layout.\")  # Log which element failed\n",
    "            return False  # Return False if any element does not match the expected position\n",
    "\n",
    "    return True  # Return True if all UI elements match their expected layout\n",
    "\n",
    "# Main function to execute the script\n",
    "def main(xml_file_path, screenshot_path):\n",
    "    # Read the XML file content\n",
    "    with open(xml_file_path, 'r') as file:\n",
    "        xml_content = file.read()\n",
    "\n",
    "    # Parse the XML to extract UI elements and their bounding boxes\n",
    "    xml_elements = parse_xml_for_ui_elements(xml_content)\n",
    "\n",
    "    # Validate the screenshot layout against the parsed XML elements\n",
    "    is_valid = validate_image_against_xml(screenshot_path, xml_elements)\n",
    "\n",
    "    # Output the result of the validation\n",
    "    print(\"Image Validation Result:\")\n",
    "    print(\"Valid Image!\" if is_valid else \"Image does not match the expected layout.\")\n",
    "\n",
    "# Example usage\n",
    "if __name__ == \"__main__\":\n",
    "    xml_file_path = 'cart_updated.xml'  # Path to the XML file containing the UI layout information\n",
    "    screenshot_path = 'cart.png'  # Path to the screenshot to validate\n",
    "    main(xml_file_path, screenshot_path)\n"
   ]
  }
 ],
 "metadata": {
  "kernelspec": {
   "display_name": "Python 3",
   "language": "python",
   "name": "python3"
  },
  "language_info": {
   "codemirror_mode": {
    "name": "ipython",
    "version": 3
   },
   "file_extension": ".py",
   "mimetype": "text/x-python",
   "name": "python",
   "nbconvert_exporter": "python",
   "pygments_lexer": "ipython3",
   "version": "3.9.6"
  }
 },
 "nbformat": 4,
 "nbformat_minor": 2
}
